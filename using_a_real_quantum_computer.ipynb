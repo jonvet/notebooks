{
 "cells": [
  {
   "cell_type": "markdown",
   "id": "03116110-deae-44fd-b1e3-b9cdfa74682e",
   "metadata": {},
   "source": [
    "# Quantum Computing 101: How to use a real Quantum Computer\n",
    "\n",
    "This notebooks has basically the same content as this [blog post](https://www.jonvet.com/blog/using-a-real-quantum-computer)"
   ]
  },
  {
   "cell_type": "code",
   "execution_count": null,
   "id": "ae5fa3ca-4c66-40e4-befa-d4e7de774c06",
   "metadata": {},
   "outputs": [],
   "source": [
    "!pip install matplotlib==3.9.0 pylatexenc==2.10 qiskit==1.1.0 qiskit-aer==0.14.1 qiskit-ibm-provider==0.11.0 qiskit-ibm-runtime==0.23.0"
   ]
  },
  {
   "cell_type": "code",
   "execution_count": 5,
   "id": "ba5a0623-1c95-44ca-b3b1-cb41b73379e5",
   "metadata": {},
   "outputs": [],
   "source": [
    "from qiskit_ibm_runtime import QiskitRuntimeService, SamplerV2 as Sampler\n",
    "from qiskit import QuantumCircuit, transpile\n",
    "from qiskit.visualization import plot_histogram"
   ]
  },
  {
   "cell_type": "markdown",
   "id": "7b90731a-8efc-445e-aac6-cd06d9d2eed0",
   "metadata": {},
   "source": [
    "# Setting up an IBM Quantum account & API key\n",
    "This step is easy - just head to https://quantum.ibm.com and sign up for an account. After you log in, you'll see your API key on the top right of the dashboard - copy it."
   ]
  },
  {
   "cell_type": "code",
   "execution_count": null,
   "id": "7030319f-b3d4-47ff-a35b-d4bab61e84ab",
   "metadata": {},
   "outputs": [],
   "source": [
    "# if this is the time you use IBM Quantum\n",
    "service = QiskitRuntimeService.save_account(channel=\"ibm_quantum\", token=\"<YOUR_API_KEY>\")\n",
    "# Otherwise run this\n",
    "# service = QiskitRuntimeService()"
   ]
  },
  {
   "cell_type": "markdown",
   "id": "665c4543-8814-4aa1-ac1c-11d6d51d7a0e",
   "metadata": {},
   "source": [
    "# Creating a simple quantum circuit"
   ]
  },
  {
   "cell_type": "markdown",
   "id": "c0df2c1f-399d-4c03-892f-1e64aebe6df5",
   "metadata": {},
   "source": [
    "Let's write a simple quantum circuit that generates a random bit."
   ]
  },
  {
   "cell_type": "code",
   "execution_count": 7,
   "id": "9a27de6b-e2f1-4820-9596-d6925d681c63",
   "metadata": {},
   "outputs": [
    {
     "data": {
      "image/png": "[encoded data removed]",
      "text/plain": [
       "<Figure size 413.165x200.667 with 1 Axes>"
      ]
     },
     "execution_count": 7,
     "metadata": {},
     "output_type": "execute_result"
    }
   ],
   "source": [
    "qc = QuantumCircuit(1)\n",
    "qc.h(0)\n",
    "qc.measure_all()\n",
    "qc.draw('mpl')"
   ]
  },
  {
   "cell_type": "markdown",
   "id": "487f8a51-e3cf-46f0-9d37-91e972cf4c44",
   "metadata": {},
   "source": [
    "Ok what's going on here? Let's break it down:\n",
    "\n",
    "- `QuantumCircuit(1)` creates a quantum circuit with 1 qubit.\n",
    "- `qc.h(0)` applies a Hadamard gate to the qubit - putting it in a [superposition](https://www.jonvet.com/blog/what-is-quantum-superposition) of 0 and 1.\n",
    "- `qc.measure_all()` measures the qubit, collapsing it to a classical bit.\n",
    "- `qc.draw('mpl')` draws the circuit using matplotlib."
   ]
  },
  {
   "cell_type": "markdown",
   "id": "39b35384-b14c-49fc-9983-88f74cabe94f",
   "metadata": {},
   "source": [
    "At this point we have the choice to run this circuit on a simulator or on a real quantum computer. The simulator can be interesting for debugging and testing, and you can also get the theoretical results for comparison.\n",
    "\n",
    "We'll take a look at the simulator later, let's run this on a real quantum computer first.\n",
    "\n",
    "If you know what a [superposition](https://www.jonvet.com/blog/what-is-quantum-superposition) is, you'll know what to expect - a 50% chance of getting 0 and a 50% chance of getting 1. Let's verify that this is indeed what happens.\n",
    "\n",
    "Run the following to grab the quantum computer that is least busy at the moment. There are still not too many machines available so if you submit a job you typically end up in a queue."
   ]
  },
  {
   "cell_type": "code",
   "execution_count": 8,
   "id": "71229a69-8528-41d2-a979-876cca4d3fb7",
   "metadata": {},
   "outputs": [
    {
     "name": "stdout",
     "output_type": "stream",
     "text": [
      "ibm_kyoto\n"
     ]
    }
   ],
   "source": [
    "backend = service.least_busy(operational=True, simulator=False, min_num_qubits=1)\n",
    "print(backend.name)"
   ]
  },
  {
   "cell_type": "markdown",
   "id": "1455190d-1f22-4c83-9531-b4d980efaa5b",
   "metadata": {},
   "source": [
    "Next, we have to transpile our quantum circuit given the backend we just picked."
   ]
  },
  {
   "cell_type": "code",
   "execution_count": 9,
   "id": "7184e4ed-6429-4915-8287-80c549285c33",
   "metadata": {},
   "outputs": [],
   "source": [
    "qc_transpiled = transpile(qc, backend, optimization_level=2)"
   ]
  },
  {
   "cell_type": "markdown",
   "id": "c730087a-35b2-48ad-adb3-4305cd57b37b",
   "metadata": {},
   "source": [
    "The reason we have to do this is that every backend potentially has a different layout. For example some qubits might be connected or not and depending on what gates your quantum circuit uses (especially when it comes to 2-qubit gates) this will be important. Transpilation also does some optimizations in order to reduce the number of gates used. It's not really important for a simple circuit like this but can really matter for more complex circuits."
   ]
  },
  {
   "cell_type": "markdown",
   "id": "a1fdc408-c335-45ca-be33-4456d9142014",
   "metadata": {},
   "source": [
    "Finally, we can run the circuit on the quantum computer. Run the following code to submit your job to the quantum computer and run it 1000 times. The reason why we run it not just once is that we want to confirm that we get the expected probabilities. Running the circuit once just gives us one measurement, 0 or 1."
   ]
  },
  {
   "cell_type": "code",
   "execution_count": 16,
   "id": "0449dba6-a3b3-4f81-827d-2b385b648a1d",
   "metadata": {},
   "outputs": [],
   "source": [
    "sampler = Sampler(backend=backend)\n",
    "qc_job = sampler.run([qc_transpiled], shots=1000)"
   ]
  },
  {
   "cell_type": "markdown",
   "id": "776d20b9-efb3-41e1-8822-05e163b9c993",
   "metadata": {},
   "source": [
    "This should take a few seconds to run depending on how busy the quantum computers are at the moment. Once it's done, you can get the results by running:"
   ]
  },
  {
   "cell_type": "code",
   "execution_count": 17,
   "id": "ce3670c0-bd10-4cdc-aeff-5e873fdad938",
   "metadata": {},
   "outputs": [
    {
     "data": {
      "image/png": "[encoded data removed]",
      "text/plain": [
       "<Figure size 640x480 with 1 Axes>"
      ]
     },
     "execution_count": 17,
     "metadata": {},
     "output_type": "execute_result"
    }
   ],
   "source": [
    "plot_histogram(qc_job.result()[0].data.meas.get_counts())"
   ]
  },
  {
   "cell_type": "markdown",
   "id": "f331f4dd-c435-458b-8b37-8121d6e9ea02",
   "metadata": {},
   "source": [
    "🥳🥳🥳 Congrats, you just ran your first quantum circuit on a real quantum computer! 🥳🥳🥳"
   ]
  },
  {
   "cell_type": "markdown",
   "id": "3383341c-ef37-4469-bfdb-89009e999031",
   "metadata": {},
   "source": [
    "# Running a slightly more complex quantum circuit"
   ]
  },
  {
   "cell_type": "markdown",
   "id": "9c853b1b-f1d0-4a94-a0cf-d9a8d778bbb6",
   "metadata": {},
   "source": [
    "Where do we go from here? Let's try something a little bit more complex. Let's create a quantum circuit with 2 qubits, and let's also entangle them. After this you'll be able to say that you put qubits into [superposition](https://www.jonvet.com/blog/what-is-quantum-superposition) and [entanglement](https://www.jonvet.com/blog/what-is-quantum-entanglement) and ran all of that on a real quantum computer - how cool is that?"
   ]
  },
  {
   "cell_type": "markdown",
   "id": "03a18e00-d128-4764-8923-1ae828ca30a3",
   "metadata": {},
   "source": [
    "## Preparing a Bell State"
   ]
  },
  {
   "cell_type": "markdown",
   "id": "e5b3b806-1ccc-4db4-b3cb-72b81dbccae6",
   "metadata": {},
   "source": [
    "Specifically we're going to create a Bell state. Creating a Bell state is one of simplest ways of creating an entangled qubit pair.\n",
    "\n",
    "To achieve this run the following:"
   ]
  },
  {
   "cell_type": "code",
   "execution_count": 18,
   "id": "c9d797e3-1722-4ea6-9921-d727e11952bd",
   "metadata": {},
   "outputs": [
    {
     "data": {
      "image/png": "[encoded data removed]",
      "text/plain": [
       "<Figure size 580.387x284.278 with 1 Axes>"
      ]
     },
     "execution_count": 18,
     "metadata": {},
     "output_type": "execute_result"
    }
   ],
   "source": [
    "bell = QuantumCircuit(2)\n",
    "bell.h(0)\n",
    "bell.cx(0, 1)\n",
    "bell.measure_all()\n",
    "bell.draw('mpl')"
   ]
  },
  {
   "cell_type": "markdown",
   "id": "0adfc0a5-9d0a-4e41-a25a-6188d9da0f70",
   "metadata": {},
   "source": [
    "What we did here:\n",
    "\n",
    "- create a quantum circuit with 2 qubits\n",
    "- apply a Hadamard gate to the first qubit, putting it in superposition as before\n",
    "- apply a CNOT (controlled-NOT) gate to the second qubit, controlled by the first qubit\n",
    "- measure both qubits\n",
    "- draw the circuit"
   ]
  },
  {
   "cell_type": "markdown",
   "id": "b745d16b-0199-4871-902e-0a1038a0bb45",
   "metadata": {},
   "source": [
    "We just introduced a new 2-qubit gate, the CNOT gate, and it's worth briefly talking about what it does. A CNOT has a control qubit and a target qubit. The effect of this gate is as follows:\n",
    "\n",
    "- If the control qubit is in state 1, the target qubit is flipped.\n",
    "- If the control qubit is in state 0, the target qubit is left alone."
   ]
  },
  {
   "cell_type": "markdown",
   "id": "2d647bf6-bb4d-41e6-81b2-e08092a7e5a7",
   "metadata": {},
   "source": [
    "Now let's think about for a second what the expected results are. In a general 2-qubit system, there are 4 possible states: `00`,`01`, `10`, and `11`.\n",
    "\n",
    "As before, given the first qubit is in superposition, we expect to see a 50/50 split between the `0` and the `1` state when measuring this first qubit. And since we have the CNOT gate, the second qubit should always be in the same state as the first qubit.\n",
    "\n",
    "So in our Bell state at hand, only 2 of these states are possible: `00` and `11` and we expect to see a 50/50 split between these two states. This highlights one of the features of quantum entanglement: the qubits are put into a joint state such that measuring one qubit will immediately also determine the state of the other qubit.\n",
    "\n",
    "In practice, as we are dealing with noisy quantum computers, we might see some deviations from these ideal results, and observe measure `01` or `10` sometimes."
   ]
  },
  {
   "cell_type": "markdown",
   "id": "7528b3d8-636e-4f4d-9a5d-f048dd677c21",
   "metadata": {},
   "source": [
    "Let's try it out!\n",
    "\n",
    "You're probably getting the hang of this by now. Just make sure you request a quantum computer with at least 2 qubits."
   ]
  },
  {
   "cell_type": "code",
   "execution_count": 19,
   "id": "9f79d12e-095a-427e-a8d3-98e080bb1776",
   "metadata": {},
   "outputs": [],
   "source": [
    "backend = service.least_busy(operational=True, simulator=False, min_num_qubits=2)\n",
    "bell_transpiled = transpile(bell, backend, optimization_level=2)"
   ]
  },
  {
   "cell_type": "code",
   "execution_count": 20,
   "id": "0d8329c8-7da9-4044-a4d6-a4f6a613c7da",
   "metadata": {},
   "outputs": [
    {
     "data": {
      "image/png": "[encoded data removed]",
      "text/plain": [
       "<Figure size 640x480 with 1 Axes>"
      ]
     },
     "execution_count": 20,
     "metadata": {},
     "output_type": "execute_result"
    }
   ],
   "source": [
    "sampler = Sampler(backend=backend)\n",
    "bell_job = sampler.run([bell_transpiled], shots=1000)\n",
    "plot_histogram(bell_job.result()[0].data.meas.get_counts())"
   ]
  },
  {
   "cell_type": "markdown",
   "id": "05f8b8d6-2ce6-4471-b3d9-c6157208f78d",
   "metadata": {},
   "source": [
    "# Recap\n",
    "Congrats if you made it all the way here. You can be proud of yourself - you just ran a quantum circuit on a real quantum computer! What we covered in this post:\n",
    "\n",
    "- Setting up your environment to run quantum circuits on IBM Quantum's cloud machines\n",
    "- Writing a simple quantum circuit that generates a random bit\n",
    "- Running this circuit on a real quantum computer and verifying the results\n",
    "- Writing a slightly more complex quantum circuit that creates a Bell state\n",
    "- Running this circuit on a real quantum computer and verifying the results\n",
    "\n",
    "In other words, you just put qubits into [superposition](https://www.jonvet.com/blog/what-is-quantum-superposition) and [entanglement](https://www.jonvet.com/blog/what-is-quantum-entanglement) and ran all of that on a real quantum computer. Not bad for a day's work!"
   ]
  },
  {
   "cell_type": "code",
   "execution_count": null,
   "id": "f71f60c1-d770-4dfe-8fc2-4bb65c06e2eb",
   "metadata": {},
   "outputs": [],
   "source": []
  }
 ],
 "metadata": {
  "kernelspec": {
   "display_name": "qiskit1",
   "language": "python",
   "name": "qiskit1"
  },
  "language_info": {
   "codemirror_mode": {
    "name": "ipython",
    "version": 3
   },
   "file_extension": ".py",
   "mimetype": "text/x-python",
   "name": "python",
   "nbconvert_exporter": "python",
   "pygments_lexer": "ipython3",
   "version": "3.10.12"
  }
 },
 "nbformat": 4,
 "nbformat_minor": 5
}
